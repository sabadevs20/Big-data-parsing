{
 "cells": [
  {
   "cell_type": "code",
   "execution_count": 1,
   "metadata": {},
   "outputs": [],
   "source": [
    "import findspark\n",
    "findspark.init()\n"
   ]
  },
  {
   "cell_type": "code",
   "execution_count": 5,
   "metadata": {},
   "outputs": [],
   "source": [
    "from pyspark.sql import SparkSession\n",
    "import pyspark\n",
    "from pyspark.context import SparkContext\n",
    "conf = pyspark.SparkConf()\n",
    "# conf.set('spark.app.name', app_name) # Optional configurations\n",
    "import re\n",
    "import pandas as pd\n",
    "\n",
    "\n"
   ]
  },
  {
   "cell_type": "code",
   "execution_count": 3,
   "metadata": {},
   "outputs": [],
   "source": [
    "from pyspark.sql.context import SQLContext\n",
    "from pyspark.sql.session import SparkSession\n",
    "sc = pyspark.SparkContext.getOrCreate(conf=conf)\n",
    "\n",
    "\n",
    "sqlContext = SQLContext(sc)\n",
    "spark = SparkSession(sc)"
   ]
  },
  {
   "cell_type": "code",
   "execution_count": 7,
   "metadata": {},
   "outputs": [
    {
     "data": {
      "text/plain": [
       "['messages2.log']"
      ]
     },
     "execution_count": 7,
     "metadata": {},
     "output_type": "execute_result"
    }
   ],
   "source": [
    "import glob\n",
    "raw_data_files=glob.glob('*.log')\n",
    "raw_data_files"
   ]
  },
  {
   "cell_type": "code",
   "execution_count": 8,
   "metadata": {},
   "outputs": [
    {
     "name": "stdout",
     "output_type": "stream",
     "text": [
      "root\n",
      " |-- value: string (nullable = true)\n",
      "\n"
     ]
    }
   ],
   "source": [
    "base_df=spark.read.text(raw_data_files)\n",
    "base_df.printSchema()"
   ]
  },
  {
   "cell_type": "code",
   "execution_count": 10,
   "metadata": {},
   "outputs": [
    {
     "name": "stdout",
     "output_type": "stream",
     "text": [
      "+----------+--------+------------+------+--------+--------+---------+---------+----------------+------------------+\n",
      "|Date      |Time    |terIp       |Vendor|cph     |Velocity|Longitude|Latitude |PowerAlarm      |SpeedDisconn      |\n",
      "+----------+--------+------------+------+--------+--------+---------+---------+----------------+------------------+\n",
      "|05-05-2020|11:47:28|016100005886|test  |KBJ 473H|0KM/H   |6.80370,E|0.82550,N|\"poweralarm\":\"1\"|\"speedDisConn\":\"1\"|\n",
      "|05-05-2020|11:47:32|016100002106|test  |KCG 550E|0KM/H   |7.64278,E|0.05730,N|\"poweralarm\":\"0\"|\"speedDisConn\":\"1\"|\n",
      "|05-05-2020|11:47:35|016100000628|test  |KBT 283L|0KM/H   |6.91717,E|0.64543,N|\"poweralarm\":\"0\"|\"speedDisConn\":\"0\"|\n",
      "|05-05-2020|11:47:37|016100000988|test  |KCS 087S|0KM/H   |4.75194,E|1.33600,N|\"poweralarm\":\"0\"|\"speedDisConn\":\"1\"|\n",
      "|05-05-2020|11:47:41|016100000045|test  |KCJ 245A|7KM/H   |6.64362,E|0.56697,N|\"poweralarm\":\"0\"|\"speedDisConn\":\"1\"|\n",
      "|05-05-2020|11:47:44|016100000455|test  |KBM 861H|4KM/H   |8.47730,E|0.89442,N|\"poweralarm\":\"0\"|\"speedDisConn\":\"0\"|\n",
      "|05-05-2020|11:48:50|016100001340|test  |KCC 437C|0KM/H   |7.13135,E|1.25800,N|\"poweralarm\":\"0\"|\"speedDisConn\":\"0\"|\n",
      "|05-05-2020|11:48:54|016100000568|test  |KBL 508K|0KM/H   |7.36877,E|1.75142,N|\"poweralarm\":\"0\"|\"speedDisConn\":\"0\"|\n",
      "|05-05-2020|11:48:58|016100000467|test  |KCA 533T|0KM/H   |6.05698,E|2.80938,N|\"poweralarm\":\"0\"|\"speedDisConn\":\"0\"|\n",
      "|05-05-2020|11:49:01|016100000972|test  |KBP 599V|7KM/H   |7.12542,E|9.58113,N|\"poweralarm\":\"0\"|\"speedDisConn\":\"1\"|\n",
      "|05-05-2020|08:49:05|016100004174|test  |KCB 603B|0KM/H   |6.72762,E|0.38957,N|\"poweralarm\":\"0\"|\"speedDisConn\":\"1\"|\n",
      "|05-05-2020|11:49:07|016100002113|test  |KBB 564X|9KM/H   |0.07708,E|0.62818,N|\"poweralarm\":\"1\"|\"speedDisConn\":\"1\"|\n",
      "|05-05-2020|11:49:11|016100003159|test  |KBK 016Z|0KM/H   |6.76150,E|1.21595,N|\"poweralarm\":\"0\"|\"speedDisConn\":\"1\"|\n",
      "|05-05-2020|11:49:14|016100004550|test  |KAU 052B|0KM/H   |6.80003,E|0.19258,N|\"poweralarm\":\"0\"|\"speedDisConn\":\"1\"|\n",
      "|05-05-2020|11:49:17|016100004160|test  |KBD 049N|0KM/H   |9.68518,E|1.31495,N|\"poweralarm\":\"0\"|\"speedDisConn\":\"1\"|\n",
      "|05-05-2020|11:49:19|016100001636|test  |KCS 816L|0KM/H   |4.69115,E|3.75568,N|\"poweralarm\":\"0\"|\"speedDisConn\":\"0\"|\n",
      "|05-05-2020|11:49:23|016100004523|test  |KBC 813J|0KM/H   |6.90168,E|2.37593,N|\"poweralarm\":\"1\"|\"speedDisConn\":\"1\"|\n",
      "|05-05-2020|11:49:26|016100001533|test  |KBS 645P|0KM/H   |5.64333,E|2.37158,N|\"poweralarm\":\"0\"|\"speedDisConn\":\"1\"|\n",
      "|05-05-2020|11:49:29|016100000297|test  |KBC 263Y|3KM/H   |6.85533,E|1.32600,N|\"poweralarm\":\"0\"|\"speedDisConn\":\"0\"|\n",
      "|05-05-2020|11:49:31|016100000706|test  |KAU 478S|0KM/H   |5.00548,E|1.02137,N|\"poweralarm\":\"0\"|\"speedDisConn\":\"0\"|\n",
      "+----------+--------+------------+------+--------+--------+---------+---------+----------------+------------------+\n",
      "only showing top 20 rows\n",
      "\n"
     ]
    }
   ],
   "source": [
    "from pyspark.sql.functions import split, regexp_extract\n",
    "split_df = base_df.select(regexp_extract('value', r'\\d{2}\\-\\d{2}\\-\\d{4}', 0).alias('Date'),\n",
    "                          regexp_extract('value', r'\\d{2}\\:\\d{2}\\:\\d{2}', 0).alias('Time'),\n",
    "                          regexp_extract('value', r'\\d{12}', 0).alias('terIp'),\n",
    "                          regexp_extract('value', r'test', 0).alias('Vendor'),\n",
    "                          regexp_extract('value', r'[A-Z]{3} [0-9]{3}[A-Z]{1}|[A-Z]{4}[0-9]{3}[A-Z]{1}', 0).alias('cph'),\n",
    "                          regexp_extract('value', r'[0-9]KM/H', 0).alias('Velocity'),\n",
    "                          regexp_extract('value', r'[0-9]\\.[0-9]+\\,E', 0).alias('Longitude'),\n",
    "                          regexp_extract('value', r'[0-9]\\.[0-9]+\\,N', 0).alias('Latitude'),\n",
    "                          regexp_extract('value', r'\"poweralarm\":\"1\"|\"poweralarm\":\"0\"', 0).alias('PowerAlarm'),\n",
    "                         \n",
    "                    \n",
    "                          regexp_extract('value',r'\"speedDisConn\":\"1\"|\"speedDisConn\":\"0\"' , 0).alias('SpeedDisconn'))\n",
    "split_df.show(truncate=False)\n"
   ]
  },
  {
   "cell_type": "code",
   "execution_count": 11,
   "metadata": {},
   "outputs": [],
   "source": [
    "split_df.toPandas().to_csv('mycsv.csv')"
   ]
  },
  {
   "cell_type": "code",
   "execution_count": null,
   "metadata": {},
   "outputs": [],
   "source": []
  },
  {
   "cell_type": "code",
   "execution_count": null,
   "metadata": {},
   "outputs": [],
   "source": []
  },
  {
   "cell_type": "code",
   "execution_count": null,
   "metadata": {},
   "outputs": [],
   "source": []
  },
  {
   "cell_type": "code",
   "execution_count": null,
   "metadata": {},
   "outputs": [],
   "source": []
  }
 ],
 "metadata": {
  "kernelspec": {
   "display_name": "Python 3",
   "language": "python",
   "name": "python3"
  },
  "language_info": {
   "codemirror_mode": {
    "name": "ipython",
    "version": 3
   },
   "file_extension": ".py",
   "mimetype": "text/x-python",
   "name": "python",
   "nbconvert_exporter": "python",
   "pygments_lexer": "ipython3",
   "version": "3.8.3"
  }
 },
 "nbformat": 4,
 "nbformat_minor": 4
}
